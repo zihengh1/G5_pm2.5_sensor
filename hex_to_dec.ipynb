{
 "cells": [
  {
   "cell_type": "code",
   "execution_count": 2,
   "metadata": {
    "collapsed": true
   },
   "outputs": [],
   "source": [
    "import csv\n",
    "import os\n",
    "import datetime\n",
    "import time\n",
    "from decimal import Decimal "
   ]
  },
  {
   "cell_type": "code",
   "execution_count": 3,
   "metadata": {
    "collapsed": true
   },
   "outputs": [],
   "source": [
    "def Check_status(file_path):\n",
    "    if os.path.exists(file_path):\n",
    "        os.remove(file_path)\n",
    "        print(\"exist\")\n",
    "    return True"
   ]
  },
  {
   "cell_type": "code",
   "execution_count": 8,
   "metadata": {},
   "outputs": [
    {
     "name": "stdout",
     "output_type": "stream",
     "text": [
      "exist\n",
      "4d420000000000040000000000000000000000000000000000000000000000934d42000000000004000000000000000000000000000000000000000000000093\n",
      "index 0\n",
      "4d42000000000004000000000000000000000000000000000000000000000093\n",
      "data_in \n",
      "collect [0, 0, 0]\n",
      "index -1\n",
      "collect [0.0, 0.0, 0.0, 12, 18, 59]\n"
     ]
    }
   ],
   "source": [
    "file_name = \"data_out\"\n",
    "path = \"/Users/heng/Intern/G3_pm2.5_sensor/\" + file_name\n",
    "if Check_status(path) == True:\n",
    "    csvFile = open(\"/Users/heng/Intern/G3_pm2.5_sensor/data_out\", \"a\", newline = \"\")\n",
    "    out_write = csv.writer(csvFile)\n",
    "    data_in = input()\n",
    "    standard = \"4d42\"\n",
    "    collect = [0, 0, 0]\n",
    "    times = 0\n",
    "    while True:\n",
    "        index = data_in.find(standard)\n",
    "        print(\"index\", index)\n",
    "        if index != -1:\n",
    "            str_slice = data_in[index:index + 64]\n",
    "            times = times + 1\n",
    "            print(str_slice)\n",
    "            data_in = data_in.replace(data_in[index:index + 64], \"\")\n",
    "            print(\"data_in\", data_in)\n",
    "            new_list = []\n",
    "            for x in str_slice:\n",
    "                new_list.append(x)\n",
    "                #fo r x in range(0, len(str_slice), 4):\n",
    "                    # print(new_list[x:x+4])\n",
    "                    # ans = int(new_list[x] + new_list[x + 1] + new_list[x + 2] + new_list[x + 3], 16)\n",
    "                    # print(ans)\n",
    "            pm1 = int(new_list[20] + new_list[21] + new_list[22] + new_list[23], 16)\n",
    "            pm25 = int(new_list[24] + new_list[25] + new_list[26] + new_list[27], 16)\n",
    "            pm10 = int(new_list[28] + new_list[29] + new_list[30] + new_list[31], 16)\n",
    "            collect[0] = (pm1 + collect[0])\n",
    "            collect[1] = (pm25 + collect[1])\n",
    "            collect[2] = (pm10 + collect[2])\n",
    "            print(\"collect\", collect)\n",
    "        else:\n",
    "            break\n",
    "    if times != 0:\n",
    "        collect = [round(x / times, 2) for x in collect]\n",
    "    time.sleep(1)\n",
    "    current = datetime.datetime.now()\n",
    "    collect.append(current.hour)\n",
    "    collect.append(current.minute)\n",
    "    collect.append(current.second)\n",
    "    print(\"collect\", collect)\n",
    "    out_write.writerow(collect)\n",
    "csvFile.close()\n"
   ]
  },
  {
   "cell_type": "code",
   "execution_count": null,
   "metadata": {
    "collapsed": true
   },
   "outputs": [],
   "source": []
  },
  {
   "cell_type": "code",
   "execution_count": null,
   "metadata": {
    "collapsed": true
   },
   "outputs": [],
   "source": []
  }
 ],
 "metadata": {
  "kernelspec": {
   "display_name": "Python 3",
   "language": "python",
   "name": "python3"
  }
 },
 "nbformat": 4,
 "nbformat_minor": 2
}
